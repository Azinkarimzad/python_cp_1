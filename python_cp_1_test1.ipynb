{
 "cells": [
  {
   "cell_type": "code",
   "execution_count": 1,
   "id": "c40feda4",
   "metadata": {},
   "outputs": [
    {
     "name": "stdout",
     "output_type": "stream",
     "text": [
      " Volume in drive C is Windows\n",
      " Volume Serial Number is F264-D3FA\n",
      "\n",
      " Directory of C:\\Users\\akarimzadanzab\\python_cp_1\n",
      "\n",
      "17-05-2024  14:43    <DIR>          .\n",
      "17-05-2024  14:43    <DIR>          ..\n",
      "17-05-2024  14:41    <DIR>          .ipynb_checkpoints\n",
      "17-05-2024  14:43               589 python_cp_1_test1.ipynb\n",
      "17-05-2024  14:38                18 README.md\n",
      "               2 File(s)            607 bytes\n",
      "               3 Dir(s)  151.876.214.784 bytes free\n"
     ]
    }
   ],
   "source": [
    "ls\n"
   ]
  },
  {
   "cell_type": "code",
   "execution_count": 2,
   "id": "1c4579ca-1bbe-4343-8041-a17b65c425eb",
   "metadata": {},
   "outputs": [
    {
     "data": {
      "text/plain": [
       "'C:\\\\Users\\\\akarimzadanzab\\\\python_cp_1'"
      ]
     },
     "execution_count": 2,
     "metadata": {},
     "output_type": "execute_result"
    }
   ],
   "source": [
    "pwd"
   ]
  },
  {
   "cell_type": "code",
   "execution_count": null,
   "id": "9a92c04b-de92-4d58-a05f-d1c87b61b035",
   "metadata": {},
   "outputs": [],
   "source": []
  },
  {
   "cell_type": "code",
   "execution_count": null,
   "id": "c475b6b4-0149-4fa2-80c8-991720aa06ec",
   "metadata": {},
   "outputs": [],
   "source": []
  },
  {
   "cell_type": "code",
   "execution_count": null,
   "id": "9b1b78b5-4c1b-499f-847c-f4865780d006",
   "metadata": {},
   "outputs": [],
   "source": []
  },
  {
   "cell_type": "code",
   "execution_count": null,
   "id": "cc6f6020-0519-4567-81fe-66ac7278f703",
   "metadata": {},
   "outputs": [],
   "source": []
  },
  {
   "cell_type": "code",
   "execution_count": null,
   "id": "84ca64ac-43d4-4c55-bebf-d1b2ca3f18b5",
   "metadata": {},
   "outputs": [],
   "source": []
  },
  {
   "cell_type": "code",
   "execution_count": null,
   "id": "416221a4-2694-4669-a222-1f42b0ca4563",
   "metadata": {},
   "outputs": [],
   "source": []
  },
  {
   "cell_type": "code",
   "execution_count": null,
   "id": "8626fb28-8e79-4925-a58f-7d2655db7fd8",
   "metadata": {},
   "outputs": [],
   "source": []
  },
  {
   "cell_type": "code",
   "execution_count": null,
   "id": "ef6e1090-6b44-4d23-a550-4b6f0bbe389b",
   "metadata": {},
   "outputs": [],
   "source": []
  },
  {
   "cell_type": "code",
   "execution_count": null,
   "id": "d21fd70d-f6fe-44f0-bfea-d021dfb67925",
   "metadata": {},
   "outputs": [],
   "source": []
  }
 ],
 "metadata": {
  "kernelspec": {
   "display_name": "Python 3 (ipykernel)",
   "language": "python",
   "name": "python3"
  },
  "language_info": {
   "codemirror_mode": {
    "name": "ipython",
    "version": 3
   },
   "file_extension": ".py",
   "mimetype": "text/x-python",
   "name": "python",
   "nbconvert_exporter": "python",
   "pygments_lexer": "ipython3",
   "version": "3.11.9"
  }
 },
 "nbformat": 4,
 "nbformat_minor": 5
}
