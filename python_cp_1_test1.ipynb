{
 "cells": [
  {
   "cell_type": "code",
   "execution_count": 1,
   "id": "c40feda4",
   "metadata": {},
   "outputs": [
    {
     "name": "stdout",
     "output_type": "stream",
     "text": [
      " Volume in drive C is Windows\n",
      " Volume Serial Number is F264-D3FA\n",
      "\n",
      " Directory of C:\\Users\\akarimzadanzab\\python_cp_1\n",
      "\n",
      "17-05-2024  14:43    <DIR>          .\n",
      "17-05-2024  14:43    <DIR>          ..\n",
      "17-05-2024  14:41    <DIR>          .ipynb_checkpoints\n",
      "17-05-2024  14:43               589 python_cp_1_test1.ipynb\n",
      "17-05-2024  14:38                18 README.md\n",
      "               2 File(s)            607 bytes\n",
      "               3 Dir(s)  151.876.214.784 bytes free\n"
     ]
    }
   ],
   "source": [
    "ls"
   ]
  }
 ],
 "metadata": {
  "kernelspec": {
   "display_name": "Python 3 (ipykernel)",
   "language": "python",
   "name": "python3"
  },
  "language_info": {
   "codemirror_mode": {
    "name": "ipython",
    "version": 3
   },
   "file_extension": ".py",
   "mimetype": "text/x-python",
   "name": "python",
   "nbconvert_exporter": "python",
   "pygments_lexer": "ipython3",
   "version": "3.11.9"
  }
 },
 "nbformat": 4,
 "nbformat_minor": 5
}
